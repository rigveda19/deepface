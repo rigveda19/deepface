{
  "nbformat": 4,
  "nbformat_minor": 0,
  "metadata": {
    "colab": {
      "provenance": [],
      "authorship_tag": "ABX9TyPn6nhWJ/UvwVyv/30J1qd5",
      "include_colab_link": true
    },
    "kernelspec": {
      "name": "python3",
      "display_name": "Python 3"
    },
    "language_info": {
      "name": "python"
    }
  },
  "cells": [
    {
      "cell_type": "markdown",
      "metadata": {
        "id": "view-in-github",
        "colab_type": "text"
      },
      "source": [
        "<a href=\"https://colab.research.google.com/github/rigveda19/deepface/blob/main/deepface.ipynb\" target=\"_parent\"><img src=\"https://colab.research.google.com/assets/colab-badge.svg\" alt=\"Open In Colab\"/></a>"
      ]
    },
    {
      "cell_type": "code",
      "execution_count": 1,
      "metadata": {
        "colab": {
          "base_uri": "https://localhost:8080/"
        },
        "id": "-_JwOxOaqD8o",
        "outputId": "b8b50997-c0d9-4a8c-f06a-1c4fe3ac1184"
      },
      "outputs": [
        {
          "output_type": "stream",
          "name": "stdout",
          "text": [
            "Collecting deepface\n",
            "  Downloading deepface-0.0.87-py3-none-any.whl (93 kB)\n",
            "\u001b[2K     \u001b[90m━━━━━━━━━━━━━━━━━━━━━━━━━━━━━━━━━━━━━━━━\u001b[0m \u001b[32m93.6/93.6 kB\u001b[0m \u001b[31m1.8 MB/s\u001b[0m eta \u001b[36m0:00:00\u001b[0m\n",
            "\u001b[?25hRequirement already satisfied: numpy>=1.14.0 in /usr/local/lib/python3.10/dist-packages (from deepface) (1.25.2)\n",
            "Requirement already satisfied: pandas>=0.23.4 in /usr/local/lib/python3.10/dist-packages (from deepface) (1.5.3)\n",
            "Requirement already satisfied: gdown>=3.10.1 in /usr/local/lib/python3.10/dist-packages (from deepface) (4.7.3)\n",
            "Requirement already satisfied: tqdm>=4.30.0 in /usr/local/lib/python3.10/dist-packages (from deepface) (4.66.2)\n",
            "Requirement already satisfied: Pillow>=5.2.0 in /usr/local/lib/python3.10/dist-packages (from deepface) (9.4.0)\n",
            "Requirement already satisfied: opencv-python>=4.5.5.64 in /usr/local/lib/python3.10/dist-packages (from deepface) (4.8.0.76)\n",
            "Requirement already satisfied: tensorflow>=1.9.0 in /usr/local/lib/python3.10/dist-packages (from deepface) (2.15.0)\n",
            "Requirement already satisfied: keras>=2.2.0 in /usr/local/lib/python3.10/dist-packages (from deepface) (2.15.0)\n",
            "Requirement already satisfied: Flask>=1.1.2 in /usr/local/lib/python3.10/dist-packages (from deepface) (2.2.5)\n",
            "Collecting mtcnn>=0.1.0 (from deepface)\n",
            "  Downloading mtcnn-0.1.1-py3-none-any.whl (2.3 MB)\n",
            "\u001b[2K     \u001b[90m━━━━━━━━━━━━━━━━━━━━━━━━━━━━━━━━━━━━━━━━\u001b[0m \u001b[32m2.3/2.3 MB\u001b[0m \u001b[31m27.2 MB/s\u001b[0m eta \u001b[36m0:00:00\u001b[0m\n",
            "\u001b[?25hCollecting retina-face>=0.0.1 (from deepface)\n",
            "  Downloading retina_face-0.0.15-py3-none-any.whl (24 kB)\n",
            "Collecting fire>=0.4.0 (from deepface)\n",
            "  Downloading fire-0.6.0.tar.gz (88 kB)\n",
            "\u001b[2K     \u001b[90m━━━━━━━━━━━━━━━━━━━━━━━━━━━━━━━━━━━━━━━━\u001b[0m \u001b[32m88.4/88.4 kB\u001b[0m \u001b[31m12.0 MB/s\u001b[0m eta \u001b[36m0:00:00\u001b[0m\n",
            "\u001b[?25h  Preparing metadata (setup.py) ... \u001b[?25l\u001b[?25hdone\n",
            "Collecting gunicorn>=20.1.0 (from deepface)\n",
            "  Downloading gunicorn-21.2.0-py3-none-any.whl (80 kB)\n",
            "\u001b[2K     \u001b[90m━━━━━━━━━━━━━━━━━━━━━━━━━━━━━━━━━━━━━━━━\u001b[0m \u001b[32m80.2/80.2 kB\u001b[0m \u001b[31m11.2 MB/s\u001b[0m eta \u001b[36m0:00:00\u001b[0m\n",
            "\u001b[?25hRequirement already satisfied: six in /usr/local/lib/python3.10/dist-packages (from fire>=0.4.0->deepface) (1.16.0)\n",
            "Requirement already satisfied: termcolor in /usr/local/lib/python3.10/dist-packages (from fire>=0.4.0->deepface) (2.4.0)\n",
            "Requirement already satisfied: Werkzeug>=2.2.2 in /usr/local/lib/python3.10/dist-packages (from Flask>=1.1.2->deepface) (3.0.1)\n",
            "Requirement already satisfied: Jinja2>=3.0 in /usr/local/lib/python3.10/dist-packages (from Flask>=1.1.2->deepface) (3.1.3)\n",
            "Requirement already satisfied: itsdangerous>=2.0 in /usr/local/lib/python3.10/dist-packages (from Flask>=1.1.2->deepface) (2.1.2)\n",
            "Requirement already satisfied: click>=8.0 in /usr/local/lib/python3.10/dist-packages (from Flask>=1.1.2->deepface) (8.1.7)\n",
            "Requirement already satisfied: filelock in /usr/local/lib/python3.10/dist-packages (from gdown>=3.10.1->deepface) (3.13.1)\n",
            "Requirement already satisfied: requests[socks] in /usr/local/lib/python3.10/dist-packages (from gdown>=3.10.1->deepface) (2.31.0)\n",
            "Requirement already satisfied: beautifulsoup4 in /usr/local/lib/python3.10/dist-packages (from gdown>=3.10.1->deepface) (4.12.3)\n",
            "Requirement already satisfied: packaging in /usr/local/lib/python3.10/dist-packages (from gunicorn>=20.1.0->deepface) (24.0)\n",
            "Requirement already satisfied: python-dateutil>=2.8.1 in /usr/local/lib/python3.10/dist-packages (from pandas>=0.23.4->deepface) (2.8.2)\n",
            "Requirement already satisfied: pytz>=2020.1 in /usr/local/lib/python3.10/dist-packages (from pandas>=0.23.4->deepface) (2023.4)\n",
            "Requirement already satisfied: absl-py>=1.0.0 in /usr/local/lib/python3.10/dist-packages (from tensorflow>=1.9.0->deepface) (1.4.0)\n",
            "Requirement already satisfied: astunparse>=1.6.0 in /usr/local/lib/python3.10/dist-packages (from tensorflow>=1.9.0->deepface) (1.6.3)\n",
            "Requirement already satisfied: flatbuffers>=23.5.26 in /usr/local/lib/python3.10/dist-packages (from tensorflow>=1.9.0->deepface) (24.3.7)\n",
            "Requirement already satisfied: gast!=0.5.0,!=0.5.1,!=0.5.2,>=0.2.1 in /usr/local/lib/python3.10/dist-packages (from tensorflow>=1.9.0->deepface) (0.5.4)\n",
            "Requirement already satisfied: google-pasta>=0.1.1 in /usr/local/lib/python3.10/dist-packages (from tensorflow>=1.9.0->deepface) (0.2.0)\n",
            "Requirement already satisfied: h5py>=2.9.0 in /usr/local/lib/python3.10/dist-packages (from tensorflow>=1.9.0->deepface) (3.9.0)\n",
            "Requirement already satisfied: libclang>=13.0.0 in /usr/local/lib/python3.10/dist-packages (from tensorflow>=1.9.0->deepface) (16.0.6)\n",
            "Requirement already satisfied: ml-dtypes~=0.2.0 in /usr/local/lib/python3.10/dist-packages (from tensorflow>=1.9.0->deepface) (0.2.0)\n",
            "Requirement already satisfied: opt-einsum>=2.3.2 in /usr/local/lib/python3.10/dist-packages (from tensorflow>=1.9.0->deepface) (3.3.0)\n",
            "Requirement already satisfied: protobuf!=4.21.0,!=4.21.1,!=4.21.2,!=4.21.3,!=4.21.4,!=4.21.5,<5.0.0dev,>=3.20.3 in /usr/local/lib/python3.10/dist-packages (from tensorflow>=1.9.0->deepface) (3.20.3)\n",
            "Requirement already satisfied: setuptools in /usr/local/lib/python3.10/dist-packages (from tensorflow>=1.9.0->deepface) (67.7.2)\n",
            "Requirement already satisfied: typing-extensions>=3.6.6 in /usr/local/lib/python3.10/dist-packages (from tensorflow>=1.9.0->deepface) (4.10.0)\n",
            "Requirement already satisfied: wrapt<1.15,>=1.11.0 in /usr/local/lib/python3.10/dist-packages (from tensorflow>=1.9.0->deepface) (1.14.1)\n",
            "Requirement already satisfied: tensorflow-io-gcs-filesystem>=0.23.1 in /usr/local/lib/python3.10/dist-packages (from tensorflow>=1.9.0->deepface) (0.36.0)\n",
            "Requirement already satisfied: grpcio<2.0,>=1.24.3 in /usr/local/lib/python3.10/dist-packages (from tensorflow>=1.9.0->deepface) (1.62.1)\n",
            "Requirement already satisfied: tensorboard<2.16,>=2.15 in /usr/local/lib/python3.10/dist-packages (from tensorflow>=1.9.0->deepface) (2.15.2)\n",
            "Requirement already satisfied: tensorflow-estimator<2.16,>=2.15.0 in /usr/local/lib/python3.10/dist-packages (from tensorflow>=1.9.0->deepface) (2.15.0)\n",
            "Requirement already satisfied: wheel<1.0,>=0.23.0 in /usr/local/lib/python3.10/dist-packages (from astunparse>=1.6.0->tensorflow>=1.9.0->deepface) (0.43.0)\n",
            "Requirement already satisfied: MarkupSafe>=2.0 in /usr/local/lib/python3.10/dist-packages (from Jinja2>=3.0->Flask>=1.1.2->deepface) (2.1.5)\n",
            "Requirement already satisfied: google-auth<3,>=1.6.3 in /usr/local/lib/python3.10/dist-packages (from tensorboard<2.16,>=2.15->tensorflow>=1.9.0->deepface) (2.27.0)\n",
            "Requirement already satisfied: google-auth-oauthlib<2,>=0.5 in /usr/local/lib/python3.10/dist-packages (from tensorboard<2.16,>=2.15->tensorflow>=1.9.0->deepface) (1.2.0)\n",
            "Requirement already satisfied: markdown>=2.6.8 in /usr/local/lib/python3.10/dist-packages (from tensorboard<2.16,>=2.15->tensorflow>=1.9.0->deepface) (3.6)\n",
            "Requirement already satisfied: tensorboard-data-server<0.8.0,>=0.7.0 in /usr/local/lib/python3.10/dist-packages (from tensorboard<2.16,>=2.15->tensorflow>=1.9.0->deepface) (0.7.2)\n",
            "Requirement already satisfied: soupsieve>1.2 in /usr/local/lib/python3.10/dist-packages (from beautifulsoup4->gdown>=3.10.1->deepface) (2.5)\n",
            "Requirement already satisfied: charset-normalizer<4,>=2 in /usr/local/lib/python3.10/dist-packages (from requests[socks]->gdown>=3.10.1->deepface) (3.3.2)\n",
            "Requirement already satisfied: idna<4,>=2.5 in /usr/local/lib/python3.10/dist-packages (from requests[socks]->gdown>=3.10.1->deepface) (3.6)\n",
            "Requirement already satisfied: urllib3<3,>=1.21.1 in /usr/local/lib/python3.10/dist-packages (from requests[socks]->gdown>=3.10.1->deepface) (2.0.7)\n",
            "Requirement already satisfied: certifi>=2017.4.17 in /usr/local/lib/python3.10/dist-packages (from requests[socks]->gdown>=3.10.1->deepface) (2024.2.2)\n",
            "Requirement already satisfied: PySocks!=1.5.7,>=1.5.6 in /usr/local/lib/python3.10/dist-packages (from requests[socks]->gdown>=3.10.1->deepface) (1.7.1)\n",
            "Requirement already satisfied: cachetools<6.0,>=2.0.0 in /usr/local/lib/python3.10/dist-packages (from google-auth<3,>=1.6.3->tensorboard<2.16,>=2.15->tensorflow>=1.9.0->deepface) (5.3.3)\n",
            "Requirement already satisfied: pyasn1-modules>=0.2.1 in /usr/local/lib/python3.10/dist-packages (from google-auth<3,>=1.6.3->tensorboard<2.16,>=2.15->tensorflow>=1.9.0->deepface) (0.3.0)\n",
            "Requirement already satisfied: rsa<5,>=3.1.4 in /usr/local/lib/python3.10/dist-packages (from google-auth<3,>=1.6.3->tensorboard<2.16,>=2.15->tensorflow>=1.9.0->deepface) (4.9)\n",
            "Requirement already satisfied: requests-oauthlib>=0.7.0 in /usr/local/lib/python3.10/dist-packages (from google-auth-oauthlib<2,>=0.5->tensorboard<2.16,>=2.15->tensorflow>=1.9.0->deepface) (1.4.0)\n",
            "Requirement already satisfied: pyasn1<0.6.0,>=0.4.6 in /usr/local/lib/python3.10/dist-packages (from pyasn1-modules>=0.2.1->google-auth<3,>=1.6.3->tensorboard<2.16,>=2.15->tensorflow>=1.9.0->deepface) (0.5.1)\n",
            "Requirement already satisfied: oauthlib>=3.0.0 in /usr/local/lib/python3.10/dist-packages (from requests-oauthlib>=0.7.0->google-auth-oauthlib<2,>=0.5->tensorboard<2.16,>=2.15->tensorflow>=1.9.0->deepface) (3.2.2)\n",
            "Building wheels for collected packages: fire\n",
            "  Building wheel for fire (setup.py) ... \u001b[?25l\u001b[?25hdone\n",
            "  Created wheel for fire: filename=fire-0.6.0-py2.py3-none-any.whl size=117029 sha256=e5cb39a2e044372284601630851fb15b3fd1bf7f48b42f2e04e4b6a691bf74ec\n",
            "  Stored in directory: /root/.cache/pip/wheels/d6/6d/5d/5b73fa0f46d01a793713f8859201361e9e581ced8c75e5c6a3\n",
            "Successfully built fire\n",
            "Installing collected packages: gunicorn, fire, mtcnn, retina-face, deepface\n",
            "Successfully installed deepface-0.0.87 fire-0.6.0 gunicorn-21.2.0 mtcnn-0.1.1 retina-face-0.0.15\n"
          ]
        }
      ],
      "source": [
        "!pip install deepface"
      ]
    },
    {
      "cell_type": "code",
      "source": [
        "from deepface import DeepFace\n",
        "import cv2"
      ],
      "metadata": {
        "colab": {
          "base_uri": "https://localhost:8080/"
        },
        "id": "a8TsSLVArha4",
        "outputId": "56949ffc-36bf-4840-a025-7cfe839c5279"
      },
      "execution_count": 2,
      "outputs": [
        {
          "output_type": "stream",
          "name": "stdout",
          "text": [
            "24-03-21 06:24:47 - Directory /root/.deepface created\n",
            "24-03-21 06:24:47 - Directory /root/.deepface/weights created\n"
          ]
        }
      ]
    },
    {
      "cell_type": "code",
      "source": [
        "from google.colab import files\n",
        "uploaded = files.upload()"
      ],
      "metadata": {
        "colab": {
          "base_uri": "https://localhost:8080/",
          "height": 73
        },
        "id": "xR-r-OtBt7Dq",
        "outputId": "f1e77c67-8d32-46b8-e308-8fe1e8d6968e"
      },
      "execution_count": 4,
      "outputs": [
        {
          "output_type": "display_data",
          "data": {
            "text/plain": [
              "<IPython.core.display.HTML object>"
            ],
            "text/html": [
              "\n",
              "     <input type=\"file\" id=\"files-c71f6810-f417-424b-9098-2b377c1620a0\" name=\"files[]\" multiple disabled\n",
              "        style=\"border:none\" />\n",
              "     <output id=\"result-c71f6810-f417-424b-9098-2b377c1620a0\">\n",
              "      Upload widget is only available when the cell has been executed in the\n",
              "      current browser session. Please rerun this cell to enable.\n",
              "      </output>\n",
              "      <script>// Copyright 2017 Google LLC\n",
              "//\n",
              "// Licensed under the Apache License, Version 2.0 (the \"License\");\n",
              "// you may not use this file except in compliance with the License.\n",
              "// You may obtain a copy of the License at\n",
              "//\n",
              "//      http://www.apache.org/licenses/LICENSE-2.0\n",
              "//\n",
              "// Unless required by applicable law or agreed to in writing, software\n",
              "// distributed under the License is distributed on an \"AS IS\" BASIS,\n",
              "// WITHOUT WARRANTIES OR CONDITIONS OF ANY KIND, either express or implied.\n",
              "// See the License for the specific language governing permissions and\n",
              "// limitations under the License.\n",
              "\n",
              "/**\n",
              " * @fileoverview Helpers for google.colab Python module.\n",
              " */\n",
              "(function(scope) {\n",
              "function span(text, styleAttributes = {}) {\n",
              "  const element = document.createElement('span');\n",
              "  element.textContent = text;\n",
              "  for (const key of Object.keys(styleAttributes)) {\n",
              "    element.style[key] = styleAttributes[key];\n",
              "  }\n",
              "  return element;\n",
              "}\n",
              "\n",
              "// Max number of bytes which will be uploaded at a time.\n",
              "const MAX_PAYLOAD_SIZE = 100 * 1024;\n",
              "\n",
              "function _uploadFiles(inputId, outputId) {\n",
              "  const steps = uploadFilesStep(inputId, outputId);\n",
              "  const outputElement = document.getElementById(outputId);\n",
              "  // Cache steps on the outputElement to make it available for the next call\n",
              "  // to uploadFilesContinue from Python.\n",
              "  outputElement.steps = steps;\n",
              "\n",
              "  return _uploadFilesContinue(outputId);\n",
              "}\n",
              "\n",
              "// This is roughly an async generator (not supported in the browser yet),\n",
              "// where there are multiple asynchronous steps and the Python side is going\n",
              "// to poll for completion of each step.\n",
              "// This uses a Promise to block the python side on completion of each step,\n",
              "// then passes the result of the previous step as the input to the next step.\n",
              "function _uploadFilesContinue(outputId) {\n",
              "  const outputElement = document.getElementById(outputId);\n",
              "  const steps = outputElement.steps;\n",
              "\n",
              "  const next = steps.next(outputElement.lastPromiseValue);\n",
              "  return Promise.resolve(next.value.promise).then((value) => {\n",
              "    // Cache the last promise value to make it available to the next\n",
              "    // step of the generator.\n",
              "    outputElement.lastPromiseValue = value;\n",
              "    return next.value.response;\n",
              "  });\n",
              "}\n",
              "\n",
              "/**\n",
              " * Generator function which is called between each async step of the upload\n",
              " * process.\n",
              " * @param {string} inputId Element ID of the input file picker element.\n",
              " * @param {string} outputId Element ID of the output display.\n",
              " * @return {!Iterable<!Object>} Iterable of next steps.\n",
              " */\n",
              "function* uploadFilesStep(inputId, outputId) {\n",
              "  const inputElement = document.getElementById(inputId);\n",
              "  inputElement.disabled = false;\n",
              "\n",
              "  const outputElement = document.getElementById(outputId);\n",
              "  outputElement.innerHTML = '';\n",
              "\n",
              "  const pickedPromise = new Promise((resolve) => {\n",
              "    inputElement.addEventListener('change', (e) => {\n",
              "      resolve(e.target.files);\n",
              "    });\n",
              "  });\n",
              "\n",
              "  const cancel = document.createElement('button');\n",
              "  inputElement.parentElement.appendChild(cancel);\n",
              "  cancel.textContent = 'Cancel upload';\n",
              "  const cancelPromise = new Promise((resolve) => {\n",
              "    cancel.onclick = () => {\n",
              "      resolve(null);\n",
              "    };\n",
              "  });\n",
              "\n",
              "  // Wait for the user to pick the files.\n",
              "  const files = yield {\n",
              "    promise: Promise.race([pickedPromise, cancelPromise]),\n",
              "    response: {\n",
              "      action: 'starting',\n",
              "    }\n",
              "  };\n",
              "\n",
              "  cancel.remove();\n",
              "\n",
              "  // Disable the input element since further picks are not allowed.\n",
              "  inputElement.disabled = true;\n",
              "\n",
              "  if (!files) {\n",
              "    return {\n",
              "      response: {\n",
              "        action: 'complete',\n",
              "      }\n",
              "    };\n",
              "  }\n",
              "\n",
              "  for (const file of files) {\n",
              "    const li = document.createElement('li');\n",
              "    li.append(span(file.name, {fontWeight: 'bold'}));\n",
              "    li.append(span(\n",
              "        `(${file.type || 'n/a'}) - ${file.size} bytes, ` +\n",
              "        `last modified: ${\n",
              "            file.lastModifiedDate ? file.lastModifiedDate.toLocaleDateString() :\n",
              "                                    'n/a'} - `));\n",
              "    const percent = span('0% done');\n",
              "    li.appendChild(percent);\n",
              "\n",
              "    outputElement.appendChild(li);\n",
              "\n",
              "    const fileDataPromise = new Promise((resolve) => {\n",
              "      const reader = new FileReader();\n",
              "      reader.onload = (e) => {\n",
              "        resolve(e.target.result);\n",
              "      };\n",
              "      reader.readAsArrayBuffer(file);\n",
              "    });\n",
              "    // Wait for the data to be ready.\n",
              "    let fileData = yield {\n",
              "      promise: fileDataPromise,\n",
              "      response: {\n",
              "        action: 'continue',\n",
              "      }\n",
              "    };\n",
              "\n",
              "    // Use a chunked sending to avoid message size limits. See b/62115660.\n",
              "    let position = 0;\n",
              "    do {\n",
              "      const length = Math.min(fileData.byteLength - position, MAX_PAYLOAD_SIZE);\n",
              "      const chunk = new Uint8Array(fileData, position, length);\n",
              "      position += length;\n",
              "\n",
              "      const base64 = btoa(String.fromCharCode.apply(null, chunk));\n",
              "      yield {\n",
              "        response: {\n",
              "          action: 'append',\n",
              "          file: file.name,\n",
              "          data: base64,\n",
              "        },\n",
              "      };\n",
              "\n",
              "      let percentDone = fileData.byteLength === 0 ?\n",
              "          100 :\n",
              "          Math.round((position / fileData.byteLength) * 100);\n",
              "      percent.textContent = `${percentDone}% done`;\n",
              "\n",
              "    } while (position < fileData.byteLength);\n",
              "  }\n",
              "\n",
              "  // All done.\n",
              "  yield {\n",
              "    response: {\n",
              "      action: 'complete',\n",
              "    }\n",
              "  };\n",
              "}\n",
              "\n",
              "scope.google = scope.google || {};\n",
              "scope.google.colab = scope.google.colab || {};\n",
              "scope.google.colab._files = {\n",
              "  _uploadFiles,\n",
              "  _uploadFilesContinue,\n",
              "};\n",
              "})(self);\n",
              "</script> "
            ]
          },
          "metadata": {}
        },
        {
          "output_type": "stream",
          "name": "stdout",
          "text": [
            "Saving WhatsApp Image 2024-02-12 at 21.38.41.jpeg to WhatsApp Image 2024-02-12 at 21.38.41.jpeg\n"
          ]
        }
      ]
    },
    {
      "cell_type": "code",
      "source": [
        "check_img = cv2.imread('WhatsApp Image 2024-02-12 at 21.38.41.jpeg')\n",
        "analyze_face = DeepFace.analyze(check_img)"
      ],
      "metadata": {
        "colab": {
          "base_uri": "https://localhost:8080/"
        },
        "id": "q02-LwdPwwsz",
        "outputId": "e550ece9-e908-4ed1-b1e1-1d15ccaf6893"
      },
      "execution_count": 6,
      "outputs": [
        {
          "output_type": "stream",
          "name": "stderr",
          "text": [
            "Action: emotion:   0%|          | 0/4 [00:00<?, ?it/s]"
          ]
        },
        {
          "output_type": "stream",
          "name": "stdout",
          "text": [
            "24-03-21 06:49:00 - facial_expression_model_weights.h5 will be downloaded...\n"
          ]
        },
        {
          "output_type": "stream",
          "name": "stderr",
          "text": [
            "Downloading...\n",
            "From: https://github.com/serengil/deepface_models/releases/download/v1.0/facial_expression_model_weights.h5\n",
            "To: /root/.deepface/weights/facial_expression_model_weights.h5\n",
            "\n",
            "100%|██████████| 5.98M/5.98M [00:00<00:00, 69.9MB/s]\n",
            "Action: age:  25%|██▌       | 1/4 [00:00<00:02,  1.05it/s]    "
          ]
        },
        {
          "output_type": "stream",
          "name": "stdout",
          "text": [
            "24-03-21 06:49:03 - age_model_weights.h5 will be downloaded...\n"
          ]
        },
        {
          "output_type": "stream",
          "name": "stderr",
          "text": [
            "Downloading...\n",
            "From: https://github.com/serengil/deepface_models/releases/download/v1.0/age_model_weights.h5\n",
            "To: /root/.deepface/weights/age_model_weights.h5\n",
            "\n",
            "  0%|          | 0.00/539M [00:00<?, ?B/s]\u001b[A\n",
            "  4%|▎         | 19.4M/539M [00:00<00:02, 192MB/s]\u001b[A\n",
            " 11%|█▏        | 61.3M/539M [00:00<00:01, 323MB/s]\u001b[A\n",
            " 19%|█▉        | 104M/539M [00:00<00:01, 368MB/s] \u001b[A\n",
            " 26%|██▌       | 141M/539M [00:00<00:01, 337MB/s]\u001b[A\n",
            " 33%|███▎      | 175M/539M [00:00<00:01, 303MB/s]\u001b[A\n",
            " 39%|███▉      | 210M/539M [00:00<00:01, 317MB/s]\u001b[A\n",
            " 45%|████▌     | 243M/539M [00:00<00:00, 309MB/s]\u001b[A\n",
            " 51%|█████     | 274M/539M [00:00<00:00, 301MB/s]\u001b[A\n",
            " 57%|█████▋    | 305M/539M [00:00<00:00, 299MB/s]\u001b[A\n",
            " 62%|██████▏   | 335M/539M [00:01<00:00, 286MB/s]\u001b[A\n",
            " 68%|██████▊   | 365M/539M [00:01<00:00, 290MB/s]\u001b[A\n",
            " 73%|███████▎  | 395M/539M [00:01<00:00, 291MB/s]\u001b[A\n",
            " 79%|███████▊  | 424M/539M [00:01<00:00, 267MB/s]\u001b[A\n",
            " 84%|████████▍ | 451M/539M [00:01<00:00, 250MB/s]\u001b[A\n",
            " 89%|████████▊ | 477M/539M [00:01<00:00, 251MB/s]\u001b[A\n",
            " 93%|█████████▎| 503M/539M [00:01<00:00, 252MB/s]\u001b[A\n",
            "100%|██████████| 539M/539M [00:01<00:00, 277MB/s]\n",
            "Action: gender:  50%|█████     | 2/4 [00:08<00:10,  5.05s/it]"
          ]
        },
        {
          "output_type": "stream",
          "name": "stdout",
          "text": [
            "24-03-21 06:49:15 - gender_model_weights.h5 will be downloaded...\n"
          ]
        },
        {
          "output_type": "stream",
          "name": "stderr",
          "text": [
            "Downloading...\n",
            "From: https://github.com/serengil/deepface_models/releases/download/v1.0/gender_model_weights.h5\n",
            "To: /root/.deepface/weights/gender_model_weights.h5\n",
            "\n",
            "  0%|          | 0.00/537M [00:00<?, ?B/s]\u001b[A\n",
            "  0%|          | 524k/537M [00:00<01:52, 4.76MB/s]\u001b[A\n",
            "  3%|▎         | 17.8M/537M [00:00<00:05, 99.7MB/s]\u001b[A\n",
            "  8%|▊         | 45.6M/537M [00:00<00:02, 179MB/s] \u001b[A\n",
            " 12%|█▏        | 64.0M/537M [00:00<00:02, 169MB/s]\u001b[A\n",
            " 15%|█▌        | 81.3M/537M [00:00<00:04, 110MB/s]\u001b[A\n",
            " 18%|█▊        | 94.9M/537M [00:00<00:04, 105MB/s]\u001b[A\n",
            " 20%|██        | 107M/537M [00:00<00:04, 101MB/s] \u001b[A\n",
            " 22%|██▏       | 119M/537M [00:01<00:04, 95.0MB/s]\u001b[A\n",
            " 24%|██▍       | 129M/537M [00:01<00:04, 86.4MB/s]\u001b[A\n",
            " 26%|██▌       | 139M/537M [00:01<00:05, 78.7MB/s]\u001b[A\n",
            " 27%|██▋       | 147M/537M [00:01<00:05, 74.2MB/s]\u001b[A\n",
            " 29%|██▉       | 155M/537M [00:01<00:05, 66.2MB/s]\u001b[A\n",
            " 32%|███▏      | 171M/537M [00:01<00:04, 87.5MB/s]\u001b[A\n",
            " 34%|███▍      | 181M/537M [00:01<00:04, 77.3MB/s]\u001b[A\n",
            " 35%|███▌      | 190M/537M [00:02<00:04, 73.1MB/s]\u001b[A\n",
            " 37%|███▋      | 198M/537M [00:02<00:04, 71.5MB/s]\u001b[A\n",
            " 39%|███▊      | 208M/537M [00:02<00:04, 78.0MB/s]\u001b[A\n",
            " 41%|████      | 220M/537M [00:02<00:03, 87.3MB/s]\u001b[A\n",
            " 43%|████▎     | 229M/537M [00:02<00:03, 88.5MB/s]\u001b[A\n",
            " 44%|████▍     | 239M/537M [00:02<00:03, 83.7MB/s]\u001b[A\n",
            " 46%|████▌     | 247M/537M [00:02<00:03, 84.7MB/s]\u001b[A\n",
            " 48%|████▊     | 256M/537M [00:02<00:03, 85.0MB/s]\u001b[A\n",
            " 49%|████▉     | 265M/537M [00:03<00:03, 80.8MB/s]\u001b[A\n",
            " 51%|█████     | 275M/537M [00:03<00:03, 82.0MB/s]\u001b[A\n",
            " 53%|█████▎    | 283M/537M [00:03<00:03, 72.6MB/s]\u001b[A\n",
            " 54%|█████▍    | 291M/537M [00:03<00:03, 61.7MB/s]\u001b[A\n",
            " 55%|█████▌    | 298M/537M [00:03<00:04, 58.3MB/s]\u001b[A\n",
            " 57%|█████▋    | 306M/537M [00:03<00:03, 62.2MB/s]\u001b[A\n",
            " 58%|█████▊    | 314M/537M [00:03<00:03, 67.2MB/s]\u001b[A\n",
            " 60%|█████▉    | 321M/537M [00:03<00:03, 67.3MB/s]\u001b[A\n",
            " 61%|██████    | 329M/537M [00:04<00:03, 62.9MB/s]\u001b[A\n",
            " 62%|██████▏   | 336M/537M [00:04<00:06, 31.6MB/s]\u001b[A\n",
            " 64%|██████▍   | 344M/537M [00:04<00:04, 40.4MB/s]\u001b[A\n",
            " 66%|██████▌   | 354M/537M [00:04<00:03, 50.8MB/s]\u001b[A\n",
            " 68%|██████▊   | 367M/537M [00:04<00:02, 65.9MB/s]\u001b[A\n",
            " 71%|███████   | 382M/537M [00:04<00:01, 85.2MB/s]\u001b[A\n",
            " 74%|███████▍  | 397M/537M [00:05<00:01, 99.8MB/s]\u001b[A\n",
            " 78%|███████▊  | 417M/537M [00:05<00:00, 125MB/s] \u001b[A\n",
            " 82%|████████▏ | 438M/537M [00:05<00:00, 145MB/s]\u001b[A\n",
            " 85%|████████▌ | 457M/537M [00:05<00:00, 157MB/s]\u001b[A\n",
            " 89%|████████▊ | 476M/537M [00:05<00:00, 167MB/s]\u001b[A\n",
            " 92%|█████████▏| 494M/537M [00:05<00:00, 168MB/s]\u001b[A\n",
            " 95%|█████████▌| 512M/537M [00:05<00:00, 150MB/s]\u001b[A\n",
            "100%|██████████| 537M/537M [00:05<00:00, 91.3MB/s]\n",
            "Action: race:  75%|███████▌  | 3/4 [00:25<00:10, 10.35s/it]  "
          ]
        },
        {
          "output_type": "stream",
          "name": "stdout",
          "text": [
            "24-03-21 06:49:27 - race_model_single_batch.h5 will be downloaded...\n"
          ]
        },
        {
          "output_type": "stream",
          "name": "stderr",
          "text": [
            "Downloading...\n",
            "From: https://github.com/serengil/deepface_models/releases/download/v1.0/race_model_single_batch.h5\n",
            "To: /root/.deepface/weights/race_model_single_batch.h5\n",
            "\n",
            "  0%|          | 0.00/537M [00:00<?, ?B/s]\u001b[A\n",
            "  1%|          | 5.77M/537M [00:00<00:09, 55.4MB/s]\u001b[A\n",
            "  7%|▋         | 36.2M/537M [00:00<00:02, 199MB/s] \u001b[A\n",
            " 14%|█▍        | 77.6M/537M [00:00<00:01, 296MB/s]\u001b[A\n",
            " 21%|██        | 111M/537M [00:00<00:01, 309MB/s] \u001b[A\n",
            " 27%|██▋       | 143M/537M [00:00<00:01, 290MB/s]\u001b[A\n",
            " 32%|███▏      | 172M/537M [00:00<00:01, 247MB/s]\u001b[A\n",
            " 37%|███▋      | 199M/537M [00:00<00:01, 254MB/s]\u001b[A\n",
            " 43%|████▎     | 229M/537M [00:00<00:01, 265MB/s]\u001b[A\n",
            " 48%|████▊     | 256M/537M [00:00<00:01, 264MB/s]\u001b[A\n",
            " 53%|█████▎    | 283M/537M [00:01<00:00, 264MB/s]\u001b[A\n",
            " 58%|█████▊    | 310M/537M [00:01<00:00, 256MB/s]\u001b[A\n",
            " 63%|██████▎   | 336M/537M [00:01<00:00, 254MB/s]\u001b[A\n",
            " 67%|██████▋   | 362M/537M [00:01<00:00, 237MB/s]\u001b[A\n",
            " 72%|███████▏  | 386M/537M [00:01<00:00, 223MB/s]\u001b[A\n",
            " 76%|███████▌  | 409M/537M [00:01<00:00, 217MB/s]\u001b[A\n",
            " 80%|████████  | 431M/537M [00:01<00:00, 213MB/s]\u001b[A\n",
            " 85%|████████▍ | 456M/537M [00:01<00:00, 223MB/s]\u001b[A\n",
            " 89%|████████▉ | 479M/537M [00:01<00:00, 220MB/s]\u001b[A\n",
            " 94%|█████████▍| 507M/537M [00:02<00:00, 237MB/s]\u001b[A\n",
            "100%|██████████| 537M/537M [00:02<00:00, 241MB/s]\n",
            "Action: race: 100%|██████████| 4/4 [00:32<00:00,  8.25s/it]\n"
          ]
        }
      ]
    },
    {
      "cell_type": "code",
      "source": [
        "analyze_face"
      ],
      "metadata": {
        "colab": {
          "base_uri": "https://localhost:8080/"
        },
        "id": "Rzt1sLI3xgbD",
        "outputId": "e2b7b811-2594-4fe5-bec9-6f2f68de80de"
      },
      "execution_count": 7,
      "outputs": [
        {
          "output_type": "execute_result",
          "data": {
            "text/plain": [
              "[{'emotion': {'angry': 0.2313582502434552,\n",
              "   'disgust': 0.001958788431459031,\n",
              "   'fear': 11.830478826818327,\n",
              "   'happy': 62.872876271352325,\n",
              "   'sad': 6.623940959446545,\n",
              "   'surprise': 13.850949865692838,\n",
              "   'neutral': 4.58844023507121},\n",
              "  'dominant_emotion': 'happy',\n",
              "  'region': {'x': 425,\n",
              "   'y': 287,\n",
              "   'w': 98,\n",
              "   'h': 98,\n",
              "   'left_eye': (31, 40),\n",
              "   'right_eye': (64, 38)},\n",
              "  'face_confidence': 0.95,\n",
              "  'age': 30,\n",
              "  'gender': {'Woman': 36.56516373157501, 'Man': 63.43482732772827},\n",
              "  'dominant_gender': 'Man',\n",
              "  'race': {'asian': 2.938850410282612,\n",
              "   'indian': 57.975709438323975,\n",
              "   'black': 3.2555699348449707,\n",
              "   'white': 3.3547542989254,\n",
              "   'middle eastern': 2.9551908373832703,\n",
              "   'latino hispanic': 29.519930481910706},\n",
              "  'dominant_race': 'indian'}]"
            ]
          },
          "metadata": {},
          "execution_count": 7
        }
      ]
    }
  ]
}